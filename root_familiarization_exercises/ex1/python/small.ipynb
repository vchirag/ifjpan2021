{
 "cells": [
  {
   "cell_type": "code",
   "execution_count": 13,
   "metadata": {},
   "outputs": [],
   "source": [
    "import ROOT # Importing the ROOT library in python"
   ]
  },
  {
   "cell_type": "code",
   "execution_count": 14,
   "metadata": {},
   "outputs": [],
   "source": [
    "f = ROOT.TFile(\"pumpkins_small.root\") # Opening the first data file"
   ]
  },
  {
   "cell_type": "code",
   "execution_count": 16,
   "metadata": {},
   "outputs": [
    {
     "name": "stdout",
     "output_type": "stream",
     "text": [
      "TFile**\t\tpumpkins_small.root\t\n",
      " TFile*\t\tpumpkins_small.root\t\n",
      "  KEY: TTree\ttransactions;1\tTree with transaction data\n"
     ]
    }
   ],
   "source": [
    "f.ls() # Listing the objects of the opened file"
   ]
  },
  {
   "cell_type": "code",
   "execution_count": 17,
   "metadata": {},
   "outputs": [
    {
     "name": "stdout",
     "output_type": "stream",
     "text": [
      "100\n"
     ]
    }
   ],
   "source": [
    "print(f.transactions.GetEntries()) # Printing the total number of entries in the 'transactions' object"
   ]
  },
  {
   "cell_type": "markdown",
   "metadata": {},
   "source": [
    "Since every farmer performs 1 transaction, there were 100 farmers in total."
   ]
  },
  {
   "cell_type": "code",
   "execution_count": 18,
   "metadata": {},
   "outputs": [
    {
     "name": "stdout",
     "output_type": "stream",
     "text": [
      "======> EVENT:9\n",
      " n               = 4\n",
      " color           = 4, \n",
      "                  4, 0, 2\n",
      " mass            = 7.84794, \n",
      "                  9.94601, 2.33502, 1.52197\n"
     ]
    }
   ],
   "source": [
    "f.transactions.Show(9)"
   ]
  },
  {
   "cell_type": "markdown",
   "metadata": {},
   "source": [
    "The 10th (9th Index) Farmer sold 4 pumpkins of white, white, orange and yellow colours respectively. <br>\n",
    "The respective masses(kg) of the pumpkins were: 7.84794, 9.94601, 2.33502 and 1.52197.\n"
   ]
  },
  {
   "cell_type": "code",
   "execution_count": 19,
   "metadata": {},
   "outputs": [
    {
     "data": {
      "text/plain": [
       "3"
      ]
     },
     "execution_count": 19,
     "metadata": {},
     "output_type": "execute_result"
    },
    {
     "name": "stdout",
     "output_type": "stream",
     "text": [
      "************************\n",
      "*    Row   *         n *\n",
      "************************\n",
      "*       31 *         2 *\n",
      "*       51 *         2 *\n",
      "*       69 *         2 *\n",
      "************************\n",
      "==> 3 selected entries\n"
     ]
    }
   ],
   "source": [
    "f.transactions.Scan(\"n\",\"n==2\")"
   ]
  },
  {
   "cell_type": "markdown",
   "metadata": {},
   "source": [
    "There were 3 farmers that sold exactly 2 pumpkins."
   ]
  }
 ],
 "metadata": {
  "kernelspec": {
   "display_name": "Python 3",
   "language": "python",
   "name": "python3"
  },
  "language_info": {
   "codemirror_mode": {
    "name": "ipython",
    "version": 3
   },
   "file_extension": ".py",
   "mimetype": "text/x-python",
   "name": "python",
   "nbconvert_exporter": "python",
   "pygments_lexer": "ipython3",
   "version": "3.6.9"
  }
 },
 "nbformat": 4,
 "nbformat_minor": 4
}
